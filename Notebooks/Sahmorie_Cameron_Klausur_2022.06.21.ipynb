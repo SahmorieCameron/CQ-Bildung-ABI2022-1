{
  "nbformat": 4,
  "nbformat_minor": 0,
  "metadata": {
    "colab": {
      "name": "Klausur_2022.06.21.ipynb",
      "provenance": [],
      "collapsed_sections": [
        "TAnJASH5quJk",
        "KmquoP14rDqe",
        "tdAPA9VJIv_H",
        "V94CnEE8I3B0",
        "nu1MafVSBSl3",
        "FQm0LsInNOw-",
        "jEe2gQXau2ZM",
        "O2nv6ZX4NWT4",
        "Gv-tnbcgNtCQ",
        "wFxYP6rw4kUp",
        "2tyg07p1vHdY",
        "rlCQxCEjTHth",
        "-Eaw4p1vTEeF",
        "sJDkDz68Q5zM",
        "IB8Urui41lRB",
        "AwZkXQtP1-KN",
        "yOh4_l0m2XTS",
        "62Hi3nvoycq4",
        "SfiQP2r4zeuz"
      ],
      "include_colab_link": true
    },
    "kernelspec": {
      "name": "python3",
      "display_name": "Python 3"
    },
    "language_info": {
      "name": "python"
    }
  },
  "cells": [
    {
      "cell_type": "markdown",
      "metadata": {
        "id": "view-in-github",
        "colab_type": "text"
      },
      "source": [
        "<a href=\"https://colab.research.google.com/github/SahmorieCameron/CQ-Bildung-ABI2022-1/blob/master/Notebooks/Sahmorie_Cameron_Klausur_2022.06.21.ipynb\" target=\"_parent\"><img src=\"https://colab.research.google.com/assets/colab-badge.svg\" alt=\"Open In Colab\"/></a>"
      ]
    },
    {
      "cell_type": "markdown",
      "source": [
        "# General Remarks"
      ],
      "metadata": {
        "id": "x_76Q3SFJOYW"
      }
    },
    {
      "cell_type": "markdown",
      "source": [
        "- Please complete all tasks (text and code) directly in this notebook\n",
        "- Save the notebook with your first name and surname in the filename:  e.g. **Klausur_ThomasManke.ipynb**\n",
        "- Submit as github repo (preferred), alternatively you can upload the notebook to the CQ portal (and share with me)\n",
        "- This test will cover three parts: Markov chains, Hidden Markov Models, Artifical Neural Networks\n",
        "- Each part will need their own and sometimes overlapping packages to import (e.g numpy). Even if it is redundant, import the relevant parts explicitly at the beginnig of each part.\n",
        "- Complete the code cells in their respective sections and add (concise) text, where more verbal explanations are required. Comments in the code cells are also welcome.\n",
        "- Feel free to add multiple code cells if you prefer, but make sure that they stay in their respective sections\n",
        "- All tasks have been tested with mybinder.org and should run on any modern laptops (with 2 GB free RAM).\n",
        "Make sure to switch off other resource hungry programs.\n",
        "If you encounter any technical problems, please inform me immediately !\n",
        "- Deadline for submission: **21.06. 2022 15:30**\n",
        "\n",
        "\n",
        "---\n",
        "\n"
      ],
      "metadata": {
        "id": "rkRkOLhWdTTq"
      }
    },
    {
      "cell_type": "markdown",
      "source": [
        "# Markov Chains"
      ],
      "metadata": {
        "id": "TAnJASH5quJk"
      }
    },
    {
      "cell_type": "markdown",
      "source": [
        "##  The story: A ball game"
      ],
      "metadata": {
        "id": "KmquoP14rDqe"
      }
    },
    {
      "cell_type": "markdown",
      "source": [
        "Alice, Bob and young Clemens are playing a new ball game - here are the rules:\n",
        "- If Alice has the ball, she will throw a (fair 6-sided) die and keep the ball if she throws a 6, otherwise she'll pass the ball to Bob\n",
        "- If Bob has the ball, he'll pass it to Alice or Clemens, based on the throw of a fair coin\n",
        "- If Clemens has the ball he'll return it to the child from whom he got it \n",
        "\n",
        "At the beginning of the game, their father throws the ball to Alice or Bob.\n",
        "However, he is three times more likely to throw it to Alice, and he never throws it to Clemens."
      ],
      "metadata": {
        "id": "EKy4tTaCIquy"
      }
    },
    {
      "cell_type": "markdown",
      "source": [
        "## The Tasks"
      ],
      "metadata": {
        "id": "tdAPA9VJIv_H"
      }
    },
    {
      "cell_type": "markdown",
      "source": [
        "Translate the story into a Markov Model. \n",
        "Optionally: add a scanned drawing of the Markov graph as jpeg file to this notebook.\n",
        "\n",
        "- What are the states and how many states are there?\n",
        "- What is the initial state distribution ? Write it down as numpy.array below.\n",
        "- Write down the transition matrix as numpy.array.\n",
        "- Does the Markov Model have a stationary distribution - and does your answer depend on whether Alice has a fair die? \n",
        "- Validate your answer numerically with the \"matrix power method\". \n",
        "- For each child, give their long-term probabilities that they hold the ball. \n",
        "- Bonus: In the fair die scenario, what is the number of steps that Alice can expect to hold the ball before having to pass it on. "
      ],
      "metadata": {
        "id": "kDyilCfuBA1C"
      }
    },
    {
      "cell_type": "markdown",
      "source": [
        "## Your solutions"
      ],
      "metadata": {
        "id": "V94CnEE8I3B0"
      }
    },
    {
      "cell_type": "code",
      "source": [
        "# import the necessary modules\n",
        "import numpy as np\n",
        "from numpy.linalg import matrix_power\n",
        "import matplotlib.pyplot as plt\n",
        "\n",
        "np.random.seed(42)\n",
        "\n",
        "def generate_sequence(P, s=0, T=100):\n",
        "    states_amt = P.shape[0]\n",
        "    if s>=states_amt:\n",
        "        raise Exception('starting state not within probability matrix')\n",
        "    else:\n",
        "        assert P.shape[0]==P.shape[1],         \"P should be a squared matrix\"\n",
        "        assert np.allclose( P.sum(axis=1), 1), \"P should be a stochastic matrix\"\n",
        "    history = [ s ]\n",
        "    for i in range(T+1):\n",
        "        X1= np.random.choice(a=states_amt, p=P[history[-1]])\n",
        "        history.append(X1)\n",
        "    return(history)\n",
        "\n",
        "\n",
        "#Transition Matrix\n",
        "P = np.array(\n",
        "    [[0.16,0.84,0],\n",
        "     [0.5, 0, 0.5],\n",
        "     [0, 1, 0],\n",
        "    ]\n",
        ")\n",
        "\n",
        "#Initial State Distribution\n",
        "ip=np.array([0.75,0.25,0]) #initial probability\n",
        "\n",
        "#Markov Chain Generation\n",
        "X=generate_sequence(P, np.random.choice(3, p=ip), T=100)\n",
        "print(*X, sep='')\n",
        "\n",
        "#Does the Markov Model have a stationary distribution - \n",
        "#and does your answer depend on whether Alice has a fair die?\n",
        "\n",
        "def plot_transition_matrix(P, tmax=100):\n",
        "\n",
        "  # some sanity checks\n",
        "  assert P.shape[0]==P.shape[1],         \"P should be a squared matrix\"\n",
        "  assert np.allclose( P.sum(axis=1), 1), \"P should be a stochastic matrix\"\n",
        "\n",
        "  fig, ax = plt.subplots(nrows=1, ncols=5, figsize=(10,5))\n",
        "  i=0\n",
        "  for t in [0,1,2,10,tmax]:\n",
        "    S=matrix_power(P,t)\n",
        "    im=ax[i].imshow(S, cmap=plt.cm.Blues)\n",
        "    ax[i].set_title(t)\n",
        "    i = i + 1\n",
        "  cax = fig.add_axes([0.1, 0.2, 0.8, 0.05])\n",
        "  fig.colorbar(im, cax=cax, orientation='horizontal')\n",
        "  plt.show()\n",
        "\n",
        "#######\n",
        "\n",
        "plot_transition_matrix(P, 1000)\n",
        "\n",
        "#######\n",
        "\n",
        "#pi_t = np.dot(pi_0, matrix_power(P,t) ) # the same as line above but more clear\n",
        "# print('given that we have an 90% probability to start in state A and 10% chance to start in state B, ')\n",
        "# print('we will end with a prob of in state \\n      A   or   B')\n",
        "# print(pi_t)\n",
        "# print(f'after{t} steps')\n",
        "\n",
        "#For each child, give their long-term probabilities that they hold the ball.\n",
        "\n",
        "def StateDuration(L, s=0):\n",
        "  # helper function to calculate the \"duration\" of a given element s in list L\n",
        "  # --> calculate the length of consecutive occurences\n",
        "  count=0\n",
        "  res=[]\n",
        "  for e in L:\n",
        "    if e==s:\n",
        "      count +=1\n",
        "    else:\n",
        "      if (count > 0):\n",
        "        res.append(count)\n",
        "      count=0\n",
        "\n",
        "  if (count>0):\n",
        "    res.append(count)\n",
        "  return res\n",
        "\n",
        "\n",
        "states, counts = np.unique(X, return_counts=True)\n",
        "B = plt.bar(states.astype(str), counts, align='center', width=0.2)\n",
        "\n",
        "i=[0,1,2]                                   # chose states\n",
        "\n",
        "X=generate_sequence(P, T= 500)\n",
        "\n",
        "for j in i:\n",
        "    exp = 1/(1-P[j,j]) # expected duration\n",
        "    res = StateDuration(X, s=j)\n",
        "    if j == 0:\n",
        "      print('Alice: expected duration: {} average: {}'.format(exp, sum(res)/len(res)))\n",
        "    elif j==1:\n",
        "      print('Bob: expected duration: {} average: {}'.format(exp, sum(res)/len(res)))\n",
        "    elif j==2:\n",
        "      print('Clemens: expected duration: {} average: {}'.format(exp, sum(res)/len(res)))\n"
      ],
      "metadata": {
        "id": "qBMuoo06-ZCV",
        "outputId": "146a80ff-b986-45cc-b683-9d1ead5382f6",
        "colab": {
          "base_uri": "https://localhost:8080/",
          "height": 538
        }
      },
      "execution_count": 95,
      "outputs": [
        {
          "output_type": "stream",
          "name": "stdout",
          "text": [
            "012100012101210101012101010121210121001001010101212121210101012101010121012121001210101210012121210001\n"
          ]
        },
        {
          "output_type": "display_data",
          "data": {
            "text/plain": [
              "<Figure size 720x360 with 6 Axes>"
            ],
            "image/png": "[encoded data removed]"
          },
          "metadata": {
            "needs_background": "light"
          }
        },
        {
          "output_type": "stream",
          "name": "stdout",
          "text": [
            "Alice: expected duration: 1.1904761904761905 average: 1.380952380952381\n",
            "Bob: expected duration: 1.0 average: 1.0\n",
            "Clemens: expected duration: 1.0 average: 1.0\n"
          ]
        },
        {
          "output_type": "display_data",
          "data": {
            "text/plain": [
              "<Figure size 432x288 with 1 Axes>"
            ],
            "image/png": "[encoded data removed]"
          },
          "metadata": {
            "needs_background": "light"
          }
        }
      ]
    },
    {
      "cell_type": "markdown",
      "source": [
        "Your verbal answers here:"
      ],
      "metadata": {
        "id": "MNqxwSCebwtR"
      }
    },
    {
      "cell_type": "markdown",
      "source": [
        "\n",
        "**What are the states and how many states are there?**\n",
        "\n",
        "There are 4 states, Father (0), Alice (1), Bob (2) and Clemens (3).\n",
        "\n",
        "**For each child, give their long-term probabilities that they hold the ball.**\n",
        "\n",
        "\n",
        "**In the fair die scenario, what is the number of steps that Alice can expect to hold the ball before having to pass it on.**\n",
        "\n",
        "1.19\n",
        "\n"
      ],
      "metadata": {
        "id": "Nt0kxHaRFbGZ"
      }
    },
    {
      "cell_type": "markdown",
      "source": [
        "# Hidden Markov Models"
      ],
      "metadata": {
        "id": "nu1MafVSBSl3"
      }
    },
    {
      "cell_type": "markdown",
      "source": [
        "## A story"
      ],
      "metadata": {
        "id": "FQm0LsInNOw-"
      }
    },
    {
      "cell_type": "markdown",
      "source": [
        "Let a hidden Markov Model be specified by the following state transition probabilities and emission probabilities.\n",
        "\n",
        "\\begin{align}\n",
        "  P & = \n",
        "  \\begin{bmatrix} \n",
        "      0.75 & 0.25 & 0.00  \\\\ \n",
        "      0.00 & 0.90 & 0.10  \\\\\n",
        "      0.20 & 0.00 & 0.80  \n",
        "  \\end{bmatrix} \n",
        "  \\\\ \\\\\n",
        "  E & = \n",
        "    \\begin{bmatrix} \n",
        "      0.00 & 0.50 & 0.50 & 0.00 \\\\ \n",
        "      0.25 & 0.25 & 0.25 & 0.25 \\\\\n",
        "      0.50 & 0.00 & 0.00 & 0.50 \n",
        "    \\end{bmatrix} \n",
        "\\end{align}\n",
        "\n",
        "\n",
        "\n"
      ],
      "metadata": {
        "id": "7po_s2CvswW0"
      }
    },
    {
      "cell_type": "markdown",
      "source": [
        "## Tasks"
      ],
      "metadata": {
        "id": "jEe2gQXau2ZM"
      }
    },
    {
      "cell_type": "markdown",
      "source": [
        "1. The initial state probability $\\pi$ is not given, but you may assume that it is the stationary distribution of state transitions - calculate it and report it.\n",
        "\n",
        "2. Using MultinomialHMM() from the hmmlearn package, set up a probabilistic model with the parameters $(\\pi, P, E)$.\n",
        "\n",
        "3.  Sample a sequence of 2000 hidden states $Z$ and the corresponding observations $X$ from the model. Use a random seed = 42 for reproducibility.\n",
        "Report the first 20 pairs of hidden states and observations.\n",
        "\n",
        "\n",
        "4. Calculate the logarithm of the probability $\\log Pr(X)$ given the model from which you generated $X$ - why is it so low (1-2 sentences)?\n",
        "\n",
        "5. Name two algorithms to decode the \"best\" possible path of hidden states $Z$ from observations $X$ and a given model. Briefly describe their different goals (2 sentences).\n",
        "Run the respective function from hmmlearn to calculate \n",
        "$Z$ for both methods, given the $X$ and the current model.\n",
        "Save the result as $Z_1$ and $Z_2$.\n",
        "Report the number of differences between $Z_1$ and $Z_2$.\n",
        "\n",
        "6. Use the hmmlearn implementation of the Baum-Welch algorithm to determine the best parameters for the HMM model, if only $X$ is given. \n",
        "  - You will have to define a new model that does not yet know any parameters (e.g. model_fit). \n",
        "  - You may assume that the number of hidden states is known to be 3.\n",
        "  - Set \"np.random.seed(1)\" and run 500 iterations. \n",
        "  - Compare the results with your knowlegde of parameters from the generating model for $X$. You might want to round the fitted parameters to two digits: np.round(...,2)\n",
        "  - Comment on possible difference and name two ways in which you might improve the parameter fit."
      ],
      "metadata": {
        "id": "xKdsvIW3u_2Q"
      }
    },
    {
      "cell_type": "markdown",
      "source": [
        "## Load the Software"
      ],
      "metadata": {
        "id": "O2nv6ZX4NWT4"
      }
    },
    {
      "cell_type": "code",
      "source": [
        "# install hmmlearn (if necessary)\n",
        "!pip install hmmlearn"
      ],
      "metadata": {
        "id": "DOJ7Jf5n4jp_",
        "outputId": "4506783e-fa7b-48bc-e80b-2ec15cdf9145",
        "colab": {
          "base_uri": "https://localhost:8080/",
          "height": 0
        }
      },
      "execution_count": 1,
      "outputs": [
        {
          "output_type": "stream",
          "name": "stdout",
          "text": [
            "Looking in indexes: https://pypi.org/simple, https://us-python.pkg.dev/colab-wheels/public/simple/\n",
            "Collecting hmmlearn\n",
            "  Downloading hmmlearn-0.2.7-cp37-cp37m-manylinux_2_12_x86_64.manylinux2010_x86_64.whl (129 kB)\n",
            "\u001b[K     |████████████████████████████████| 129 kB 9.5 MB/s \n",
            "\u001b[?25hRequirement already satisfied: numpy>=1.10 in /usr/local/lib/python3.7/dist-packages (from hmmlearn) (1.21.6)\n",
            "Requirement already satisfied: scikit-learn>=0.16 in /usr/local/lib/python3.7/dist-packages (from hmmlearn) (1.0.2)\n",
            "Requirement already satisfied: scipy>=0.19 in /usr/local/lib/python3.7/dist-packages (from hmmlearn) (1.4.1)\n",
            "Requirement already satisfied: joblib>=0.11 in /usr/local/lib/python3.7/dist-packages (from scikit-learn>=0.16->hmmlearn) (1.1.0)\n",
            "Requirement already satisfied: threadpoolctl>=2.0.0 in /usr/local/lib/python3.7/dist-packages (from scikit-learn>=0.16->hmmlearn) (3.1.0)\n",
            "Installing collected packages: hmmlearn\n",
            "Successfully installed hmmlearn-0.2.7\n"
          ]
        }
      ]
    },
    {
      "cell_type": "code",
      "source": [
        "# import modules you need\n",
        "import numpy as np\n",
        "import matplotlib.pyplot as plt\n",
        "import pickle\n",
        "from hmmlearn import hmm"
      ],
      "metadata": {
        "id": "JSndHuWEIvWx"
      },
      "execution_count": 54,
      "outputs": []
    },
    {
      "cell_type": "markdown",
      "source": [
        "## Your solution"
      ],
      "metadata": {
        "id": "Gv-tnbcgNtCQ"
      }
    },
    {
      "cell_type": "code",
      "source": [
        "P = np.array([\n",
        " [0.75, 0.25, 0.0],\n",
        " [0.0, 0.9, 0.1],\n",
        " [0.2, 0.0, 0.8]   \n",
        "])\n",
        "E = np.array([\n",
        "    [0.0, 0.5, 0.5, 0.0],\n",
        "    [0.25, 0.25, 0.25, 0.25],\n",
        "    [0.5, 0.0, 0.0, 0.5],\n",
        "]) \n",
        "\n",
        "# stationary distribution\n",
        "\n",
        "def get_stationary(n):\n",
        "    row = n\n",
        "    pi = np.full((1, row), 1 / row)\n",
        "    while True:\n",
        "        new_pi = np.dot(pi, P)\n",
        "        if np.allclose(pi, new_pi):\n",
        "            return pi \n",
        "            break\n",
        "        pi = new_pi\n",
        "print(get_stationary(3))\n",
        "\n",
        "# # define model\n",
        "model_gen = hmm.MultinomialHMM(n_components= 3)\n",
        "\n",
        "# set parameters\n",
        "model_gen.startprob_ = pi                      # initial state prob\n",
        "model_gen.transmat_  = P                       # transition prob\n",
        "model_gen.emissionprob_ =  E                   # emission prob\n",
        "\n",
        "# sample from model\n",
        "\n",
        "X,Z = model_gen.sample(2000)\n",
        "\n",
        "print('Z=', *Z[:20])\n",
        "print('X=', *X.flatten()[:20])\n",
        "\n",
        "# log P(X)\n",
        "score = model_gen.score(X)\n",
        "print('log P(X) = ', score)\n",
        "\n",
        "# # two ways to predict best path\n",
        "\n",
        "_, Z1 = model_gen.decode(X, algorithm='viterbi')\n",
        "# The Viterbi algorithm computes the most probably sequence of states,\n",
        "# from the specified HMM given the emissions.\n",
        "\n",
        "_, Z2 = model_gen.decode(X, algorithm='map')\n",
        "# The Maximal posterior function computes the marginal conditional distributions,\n",
        "# or the most likely state at each position.\n",
        "\n",
        "# # differences between two paths Z1 and Z2\n",
        "print('differences (Zv-Zm): ', np.sum(Z1 != Z2))\n",
        "print(\"\")\n",
        "\n",
        "\n",
        "# new model for fit\n",
        "np.random.seed(1)\n",
        "model_fit = hmm.MultinomialHMM(n_components=3, n_iter=500)\n",
        "model_fit.fit(X)\n",
        "score = model_fit.score(X)\n",
        "\n",
        "# print results\n",
        "print('fit score:    ', score )\n",
        "print('fitted P: \\n', np.round(model_fit.transmat_,2))\n",
        "print('known P: \\n', P)\n",
        "print('\\n')\n",
        "print('fitted E: \\n'  , np.round(model_fit.emissionprob_,2))\n",
        "print('know E: \\n', E)\n"
      ],
      "metadata": {
        "id": "8B-9ZpE8I3HH",
        "outputId": "0d283049-f2a1-483d-fe09-22c6e6e5d321",
        "colab": {
          "base_uri": "https://localhost:8080/"
        }
      },
      "execution_count": 91,
      "outputs": [
        {
          "output_type": "stream",
          "name": "stdout",
          "text": [
            "[[0.21053201 0.52630465 0.26316334]]\n",
            "Z= 0 0 0 0 1 1 1 1 1 1 2 2 2 0 1 1 1 2 2 0\n",
            "X= 2 2 2 1 3 2 3 0 3 1 3 0 3 2 2 3 1 0 0 2\n",
            "log P(X) =  -2635.402164301462\n",
            "differences (Zv-Zm):  268\n",
            "\n",
            "fit score:     -2771.4043080021916\n",
            "[[0.28605087 0.36781472 0.34613441]\n",
            " [0.31679579 0.3485149  0.33468931]\n",
            " [0.29675126 0.34686964 0.35637911]]\n",
            "fitted P: \n",
            " [[0.29 0.37 0.35]\n",
            " [0.32 0.35 0.33]\n",
            " [0.3  0.35 0.36]]\n",
            "known P: \n",
            " [[0.75 0.25 0.  ]\n",
            " [0.   0.9  0.1 ]\n",
            " [0.2  0.   0.8 ]]\n",
            "\n",
            "\n",
            "fitted E: \n",
            " [[0.35 0.46 0.   0.18]\n",
            " [0.2  0.09 0.38 0.33]\n",
            " [0.2  0.21 0.33 0.25]]\n",
            "know E: \n",
            " [[0.   0.5  0.5  0.  ]\n",
            " [0.25 0.25 0.25 0.25]\n",
            " [0.5  0.   0.   0.5 ]]\n"
          ]
        },
        {
          "output_type": "stream",
          "name": "stderr",
          "text": [
            "/usr/local/lib/python3.7/dist-packages/hmmlearn/base.py:562: ComplexWarning: Casting complex values to real discards the imaginary part\n",
            "  log_frameprob)\n",
            "/usr/local/lib/python3.7/dist-packages/hmmlearn/base.py:549: ComplexWarning: Casting complex values to real discards the imaginary part\n",
            "  log_frameprob)\n",
            "/usr/local/lib/python3.7/dist-packages/hmmlearn/base.py:562: ComplexWarning: Casting complex values to real discards the imaginary part\n",
            "  log_frameprob)\n",
            "/usr/local/lib/python3.7/dist-packages/hmmlearn/base.py:575: ComplexWarning: Casting complex values to real discards the imaginary part\n",
            "  log_frameprob)\n"
          ]
        }
      ]
    },
    {
      "cell_type": "markdown",
      "source": [
        "# Artificial Neural Networks\n",
        "\n",
        "\n"
      ],
      "metadata": {
        "id": "wFxYP6rw4kUp"
      }
    },
    {
      "cell_type": "markdown",
      "source": [
        "## The Data"
      ],
      "metadata": {
        "id": "2tyg07p1vHdY"
      }
    },
    {
      "cell_type": "markdown",
      "source": [
        "The MINST-Fashion dataset contains a large number of (small and coarse-grained) images from fashion items. This set has been annotated with labels for both traing and test data sets.\n",
        "\n",
        "Link: https://www.tensorflow.org/datasets/catalog/fashion_mnist\n",
        "\n",
        "The goals is to construct a Neural Network that can predict the fashion label from a given image.\n",
        "\n",
        "The sections below will describe the individual tasks."
      ],
      "metadata": {
        "id": "Flb0KZGWvNK5"
      }
    },
    {
      "cell_type": "markdown",
      "source": [
        "## Load Packages"
      ],
      "metadata": {
        "id": "rlCQxCEjTHth"
      }
    },
    {
      "cell_type": "code",
      "source": [
        "import numpy as np\n",
        "import tensorflow as tf\n",
        "import matplotlib.pyplot as plt\n",
        "from sklearn.metrics import confusion_matrix\n",
        "print('tf-version: ', tf.__version__)\n",
        "\n",
        "# my plot function for confusion matrix\n",
        "def plot_cm(mat):\n",
        "  classes = np.arange(cm.shape[0])\n",
        "  plt.imshow(mat, cmap=plt.cm.Blues)\n",
        "  for (j,i),label in np.ndenumerate(mat):\n",
        "    plt.text(i,j,np.round(label,2),ha='center',va='center')\n",
        "\n",
        "  plt.colorbar()\n",
        "  plt.title('Confusion Matrix')\n",
        "  plt.xlabel('True label')\n",
        "  plt.ylabel('Pred label')\n",
        "  plt.xticks(classes)\n",
        "  plt.yticks(classes)\n",
        "  plt.show()"
      ],
      "metadata": {
        "id": "VSvmyi-WS8Dw",
        "outputId": "fa9ac6f6-f7bd-47f0-893b-3e47372e0719",
        "colab": {
          "base_uri": "https://localhost:8080/"
        }
      },
      "execution_count": 135,
      "outputs": [
        {
          "output_type": "stream",
          "name": "stdout",
          "text": [
            "tf-version:  2.8.2\n"
          ]
        }
      ]
    },
    {
      "cell_type": "markdown",
      "source": [
        "## Load Data"
      ],
      "metadata": {
        "id": "-Eaw4p1vTEeF"
      }
    },
    {
      "cell_type": "markdown",
      "source": [
        "This section is given purposefully. Simply run it to get train and test data together with the respective labels. \n",
        "\n",
        "Also keep the normalization as is."
      ],
      "metadata": {
        "id": "3L-_ELx9-uBh"
      }
    },
    {
      "cell_type": "code",
      "source": [
        "mnist = tf.keras.datasets.fashion_mnist\n",
        "(X_train, y_train), (X_test, y_test) = mnist.load_data()\n",
        "\n",
        "# normalization\n",
        "X_train, X_test = X_train / 255.0, X_test / 255.0"
      ],
      "metadata": {
        "id": "CdZXakVXBU94"
      },
      "execution_count": 115,
      "outputs": []
    },
    {
      "cell_type": "markdown",
      "source": [
        "## Data Exploration and Preprocessing"
      ],
      "metadata": {
        "id": "sJDkDz68Q5zM"
      }
    },
    {
      "cell_type": "markdown",
      "source": [
        "- How many images (=samples) are included in the training data? \n",
        "- What is the shape of these images?\n",
        "- How many distinct labels does it have? "
      ],
      "metadata": {
        "id": "es5baF90Q-iv"
      }
    },
    {
      "cell_type": "code",
      "source": [
        "print('Images and their shape:     ', X_train.shape)\n",
        "print('Distinct labels:     ', nc)  \n",
        "\n",
        "nc = np.unique(y_train).size     # number of classes / labels in training set\n",
        "l_name = 'sparse_categorical_crossentropy'\n",
        "a_name = 'sparse_categorical_accuracy'"
      ],
      "metadata": {
        "id": "5hfheoJlRNEd",
        "outputId": "41ca6304-0c90-4adc-f351-14dfd5ecdcd6",
        "colab": {
          "base_uri": "https://localhost:8080/"
        }
      },
      "execution_count": 127,
      "outputs": [
        {
          "output_type": "stream",
          "name": "stdout",
          "text": [
            "Images and their shape:      (60000, 28, 28)\n",
            "Distinct labels:      10\n"
          ]
        }
      ]
    },
    {
      "cell_type": "markdown",
      "source": [
        "## Define Model and Learning Strategy"
      ],
      "metadata": {
        "id": "IB8Urui41lRB"
      }
    },
    {
      "cell_type": "markdown",
      "source": [
        "Construct an artifical neural network with\n",
        "\n",
        "- an input layer that takes the proper shape of images\n",
        "- a dense layer with 128 nodes including a 'ReLu' activation function for non-linear mapping \n",
        "- an output layer corresponding to the number of classes in the problem and a softmax activation function\n",
        "\n",
        "Use the Adam optimizer and define a suitable loss function.\n",
        "Make sure that during the learning process you will track both loss and 'sparse_categorical_accuracy' as metrics.\n",
        "\n",
        "Summarize the model. How many parameters does it have?"
      ],
      "metadata": {
        "id": "DT1r9bfm15DE"
      }
    },
    {
      "cell_type": "code",
      "source": [
        "# Define Model and Learning strategy here\n",
        "nc = np.unique(y_train).size     # number of classes / labels in training set\n",
        "l_name = 'sparse_categorical_crossentropy'\n",
        "a_name = 'sparse_categorical_accuracy'\n",
        "input_shape = X_train.shape[1:]\n",
        "\n",
        "print('X_train.shape:     ', X_train.shape)\n",
        "print('input_shape:       ', input_shape)\n",
        "print('number of classes: ', nc)\n",
        "\n",
        "mod1 = tf.keras.Sequential( name = 'mnist_model_1')\n",
        "mod1.add( tf.keras.layers.Flatten(input_shape=input_shape) )  # flattens input to vector \n",
        "mod1.add( tf.keras.layers.Dense(128, activation='relu',name='1st_layer') )  # add layer with 128 nodes + relu\n",
        "mod1.add( tf.keras.layers.Dense(nc, activation='softmax', name='softmax_layer') )\n",
        "mod1.compile(optimizer='adam', loss=l_name, metrics=a_name)\n",
        "\n",
        "mod1.summary()\n",
        "\n",
        "#Model has 101,770 params."
      ],
      "metadata": {
        "id": "M38ECS3h1j8P",
        "outputId": "e2fb7e0a-4ce3-4098-95d1-e1055ab402a4",
        "colab": {
          "base_uri": "https://localhost:8080/"
        }
      },
      "execution_count": 129,
      "outputs": [
        {
          "output_type": "stream",
          "name": "stdout",
          "text": [
            "X_train.shape:      (60000, 28, 28)\n",
            "input_shape:        (28, 28)\n",
            "number of classes:  10\n",
            "Model: \"mnist_model_1\"\n",
            "_________________________________________________________________\n",
            " Layer (type)                Output Shape              Param #   \n",
            "=================================================================\n",
            " flatten_2 (Flatten)         (None, 784)               0         \n",
            "                                                                 \n",
            " 1st_layer (Dense)           (None, 128)               100480    \n",
            "                                                                 \n",
            " softmax_layer (Dense)       (None, 10)                1290      \n",
            "                                                                 \n",
            "=================================================================\n",
            "Total params: 101,770\n",
            "Trainable params: 101,770\n",
            "Non-trainable params: 0\n",
            "_________________________________________________________________\n"
          ]
        }
      ]
    },
    {
      "cell_type": "markdown",
      "source": [
        "## Fit the Model"
      ],
      "metadata": {
        "id": "AwZkXQtP1-KN"
      }
    },
    {
      "cell_type": "markdown",
      "source": [
        "Fit the model to the training data for 10 epochs - \n",
        "use 10% of the ttraining data for validation.\n",
        "\n",
        "Once the fit is finished you may save the model."
      ],
      "metadata": {
        "id": "M6M6rQrPSgQj"
      }
    },
    {
      "cell_type": "code",
      "source": [
        "fh1 = mod1.fit(X_train, y_train, epochs=10, verbose=0, validation_split=0.1)\n",
        "\n",
        "model_fn   = 'minst_model.h5'   \n",
        "history_fn = 'minst_history.npy'\n",
        "mod1.save(model_fn)\n",
        "np.save(history_fn, fh1)   # fh1 has type keras.callbacks.History"
      ],
      "metadata": {
        "id": "YB-KM86B2AyG",
        "outputId": "6f86737a-64c2-4ab7-d7ae-7d679ad07a62",
        "colab": {
          "base_uri": "https://localhost:8080/"
        }
      },
      "execution_count": 132,
      "outputs": [
        {
          "output_type": "stream",
          "name": "stdout",
          "text": [
            "INFO:tensorflow:Assets written to: ram://1dd9c94c-761c-4f8c-aaf7-e878cfd28de4/assets\n"
          ]
        }
      ]
    },
    {
      "cell_type": "markdown",
      "source": [
        "## Evaluate the Model"
      ],
      "metadata": {
        "id": "yOh4_l0m2XTS"
      }
    },
    {
      "cell_type": "markdown",
      "source": [
        "Plot the history of loss and accuracy for the training and validation set and compare it the same metrics obtained (after fitting) for the test data.\n",
        "\n",
        "Are there any indications for overfitting - explain this briefly (1-2 sentences)."
      ],
      "metadata": {
        "id": "iRUzrhTbTXVQ"
      }
    },
    {
      "cell_type": "code",
      "source": [
        "# Evaluation & Learning history\n",
        "def plot_fit_history(fh, name='loss', test_score=0):\n",
        "  \n",
        "  if name not in fh.history:\n",
        "      print('plot_fit_history: {} is not a key in history !'.format(name))\n",
        "      return\n",
        "  val_name = 'val_' + name\n",
        "  plt.plot(fh.history[name],     label='train')\n",
        "\n",
        "  if val_name in fh.history:\n",
        "    # add validation if in data\n",
        "    plt.plot(fh.history[val_name], label='valid')\n",
        "  \n",
        "  plt.axhline(y=test_score, color='green', linestyle='-.',label = 'test')\n",
        "  plt.xlabel('Epoch')\n",
        "  plt.ylabel(name)\n",
        "  plt.legend(loc='upper left')\n",
        "  plt.show()\n",
        "\n",
        "test_loss, test_acc = mod1.evaluate(X_test, y_test)\n"
      ],
      "metadata": {
        "id": "Tj2kOkt12bMB",
        "outputId": "bd359f62-1b90-45c8-ddb1-7bf2f6d57bae",
        "colab": {
          "base_uri": "https://localhost:8080/"
        }
      },
      "execution_count": 133,
      "outputs": [
        {
          "output_type": "stream",
          "name": "stdout",
          "text": [
            "313/313 [==============================] - 1s 2ms/step - loss: 0.3633 - sparse_categorical_accuracy: 0.8877\n"
          ]
        }
      ]
    },
    {
      "cell_type": "markdown",
      "source": [
        "## Inspect predictions"
      ],
      "metadata": {
        "id": "62Hi3nvoycq4"
      }
    },
    {
      "cell_type": "markdown",
      "source": [
        "Inspect the training image with index 43 and compare the predicted label with the true label.\n",
        "\n",
        "Compare all predicted label from the training set with all true labels - you may want to use the plot_cm() funcion defined above."
      ],
      "metadata": {
        "id": "C3H-rByvyk6l"
      }
    },
    {
      "cell_type": "code",
      "source": [
        "from tensorflow.keras.preprocessing import image\n",
        "\n",
        "id=43\n",
        "\n",
        "#... prediction and inspection for one test image\n",
        "mod1_pred = mod1.predict(X_test)           # probabilities    \n",
        "X = X_test[id]\n",
        "X = np.expand_dims(X, axis=0)\n",
        "\n",
        "i_max=np.argmax(mod1_pred)\n",
        "true_lab=y_train[[id][0]]\n",
        "pred_lab=y_train[i_max]\n",
        "\n",
        "plt.figure(figsize=(12,6))\n",
        "ax = plt.subplot(2,2,1)\n",
        "plt.imshow(X_test[id])\n",
        "plt.title(true_lab)\n",
        "\n",
        "ax = plt.subplot(2,2,2)\n",
        "plt.bar(range(10), mod1_pred[0])\n",
        "plt.title(pred_lab)\n",
        "plt.show()\n",
        "\n",
        "#... predictions for all test images\n",
        "y_pred    = np.argmax(mod1_pred, axis=1)   \n",
        "\n",
        "\n",
        "#... obtain confusion matrix ...\n",
        "cm=confusion_matrix(y_pred, y_test)\n",
        "plot_cm(cm)"
      ],
      "metadata": {
        "id": "HVGkIBJEbYdf",
        "outputId": "9816d56b-477b-4280-9399-fec4fdffe3d1",
        "colab": {
          "base_uri": "https://localhost:8080/",
          "height": 490
        }
      },
      "execution_count": 150,
      "outputs": [
        {
          "output_type": "display_data",
          "data": {
            "text/plain": [
              "<Figure size 864x432 with 2 Axes>"
            ],
            "image/png": "[encoded data removed]"
          },
          "metadata": {
            "needs_background": "light"
          }
        },
        {
          "output_type": "display_data",
          "data": {
            "text/plain": [
              "<Figure size 432x288 with 2 Axes>"
            ],
            "image/png": "[encoded data removed]"
          },
          "metadata": {
            "needs_background": "light"
          }
        }
      ]
    },
    {
      "cell_type": "markdown",
      "source": [
        "## Suggestions for improvements"
      ],
      "metadata": {
        "id": "SfiQP2r4zeuz"
      }
    },
    {
      "cell_type": "markdown",
      "source": [
        "Make suggestions for possible improvements to the model and the fitting process\n",
        "\n",
        "- \n",
        "-\n",
        "-\n"
      ],
      "metadata": {
        "id": "tJc4f4eSzjRL"
      }
    }
  ]
}